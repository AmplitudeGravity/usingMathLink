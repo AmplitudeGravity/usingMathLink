{
 "cells": [
  {
   "cell_type": "code",
   "execution_count": 1,
   "metadata": {},
   "outputs": [],
   "source": [
    " push!(LOAD_PATH, \"/Users/gangchen/Dropbox/KinAlgFormFactor\");"
   ]
  },
  {
   "cell_type": "code",
   "execution_count": 2,
   "metadata": {},
   "outputs": [
    {
     "name": "stderr",
     "output_type": "stream",
     "text": [
      "┌ Info: Recompiling stale cache file /Users/gangchen/.julia/compiled/v1.1/UseMathLink.ji for UseMathLink [top-level]\n",
      "└ @ Base loading.jl:1184\n"
     ]
    }
   ],
   "source": [
    "using UseMathLink\n",
    "using MathLink\n",
    "using SymEngine\n",
    "using Cuba, SpecialFunctions"
   ]
  },
  {
   "cell_type": "code",
   "execution_count": null,
   "metadata": {},
   "outputs": [],
   "source": [
    "function intSec1s(x, f)#α1 sector decomposition   \n",
    "    tmp=jufun(Complex.(x)...)\n",
    "    f[1],f[2]=reim(tmp)\n",
    "end"
   ]
  },
  {
   "cell_type": "code",
   "execution_count": 3,
   "metadata": {},
   "outputs": [
    {
     "data": {
      "text/plain": [
       "W\"Times\"(1.6810505838183376, W\"Power\"(W\"Plus\"(W\"α2\", W\"α3\"), -1.4000000000000004), W\"Power\"(W\"Plus\"(1, W\"α4\"), -1.4000000000000004), W\"Power\"(W\"Plus\"(W\"Times\"(-0.01, W\"Plus\"(W\"α2\", W\"α3\")), W\"Times\"(W\"α2\", W\"α3\", W\"α4\")), -0.3999999999999999))"
      ]
     },
     "execution_count": 3,
     "metadata": {},
     "output_type": "execute_result"
    }
   ],
   "source": [
    "MLExpr=W```2^(-4 + DD) s23^(-4+DD)Gamma[4-DD](\\[Alpha][2] + \\[Alpha][3])^(4-(3DD)/2)(1+\\[Alpha][4])^(4-(3DD)/2) \n",
    "(-tt (\\[Alpha][2] + \\[Alpha][3]) + \\[Alpha][2] \\[Alpha][3] \\[Alpha][4])^(-4 + DD)/.{DD->3.6,s23->1,tt->0.01}\n",
    "/.{Gamma->gamma,\\[Alpha][i_]:> ToExpression[StringJoin[{{ToString[\\[Alpha]]},ToString[i]}]],Pi->pi}```|>weval"
   ]
  },
  {
   "cell_type": "code",
   "execution_count": 4,
   "metadata": {},
   "outputs": [
    {
     "data": {
      "text/plain": [
       ":(1.6810505838183376 * (α2 + α3) ^ -1.4000000000000004 * (1 + α4) ^ -1.4000000000000004 * (-0.01 * (α2 + α3) + α2 * α3 * α4) ^ -0.3999999999999999)"
      ]
     },
     "execution_count": 4,
     "metadata": {},
     "output_type": "execute_result"
    }
   ],
   "source": [
    "juExpr=math2Expr(MLExpr) #Transform from mathematica MathLink output to Julia expression"
   ]
  },
  {
   "cell_type": "code",
   "execution_count": 5,
   "metadata": {},
   "outputs": [
    {
     "data": {
      "text/plain": [
       "#1 (generic function with 1 method)"
      ]
     },
     "execution_count": 5,
     "metadata": {},
     "output_type": "execute_result"
    }
   ],
   "source": [
    "jufun=genfun(juExpr,[:α2,:α3,:α4]) #Transform to the julia function "
   ]
  },
  {
   "cell_type": "code",
   "execution_count": 8,
   "metadata": {},
   "outputs": [
    {
     "name": "stdout",
     "output_type": "stream",
     "text": [
      "  0.496745 seconds (12.00 M allocations: 488.343 MiB, 10.22% gc time)\n"
     ]
    }
   ],
   "source": [
    "@time int1nums = cuhre(intSec1s, 3, 2, atol=1e-10, rtol=1e-10);"
   ]
  },
  {
   "cell_type": "code",
   "execution_count": 10,
   "metadata": {},
   "outputs": [
    {
     "data": {
      "text/plain": [
       "17.79313098845209 - 26.214856183499197im"
      ]
     },
     "execution_count": 10,
     "metadata": {},
     "output_type": "execute_result"
    }
   ],
   "source": [
    "int1numC = int1nums[1][1]+int1nums[1][2]im "
   ]
  },
  {
   "cell_type": "code",
   "execution_count": null,
   "metadata": {},
   "outputs": [],
   "source": []
  }
 ],
 "metadata": {
  "kernelspec": {
   "display_name": "Julia 1.1.0",
   "language": "julia",
   "name": "julia-1.1"
  },
  "language_info": {
   "file_extension": ".jl",
   "mimetype": "application/julia",
   "name": "julia",
   "version": "1.1.0"
  }
 },
 "nbformat": 4,
 "nbformat_minor": 2
}
