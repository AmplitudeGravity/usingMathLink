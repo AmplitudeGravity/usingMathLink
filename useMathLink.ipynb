{
 "cells": [
  {
   "cell_type": "markdown",
   "metadata": {},
   "source": [
    "# Using MathLink to call mathematica\n",
    "  ### The input expression is generated form the mathematica. Then it transformed to julia function or symEngine function. At the end it  will call the cuba program to integrate the functions numerically. The final output is the integral value\n",
    "  Conclusion: julia function is much more faster then symEngine function. SymEngine function is as fast as Mathematica NIntegrate method. "
   ]
  },
  {
   "cell_type": "code",
   "execution_count": 1,
   "metadata": {},
   "outputs": [
    {
     "data": {
      "text/plain": [
       "genfun (generic function with 1 method)"
      ]
     },
     "execution_count": 1,
     "metadata": {},
     "output_type": "execute_result"
    }
   ],
   "source": [
    "using SymEngine\n",
    "using SyntaxTree\n",
    "using Cuba, SpecialFunctions\n",
    "using MathLink\n",
    "function math2symEngine(symb::MathLink.WSymbol)\n",
    "    SymEngine.symbols(symb.name)\n",
    "end\n",
    "function math2symEngine(num::Int)\n",
    "    num\n",
    "end\n",
    "function math2symEngine(num::Number)\n",
    "    num\n",
    "end\n",
    "function math2symEngine(expr::MathLink.WExpr)\n",
    "    if expr.head.name==\"Times\"\n",
    "        return *(map(math2symEngine,expr.args)...)\n",
    "    elseif expr.head.name==\"Plus\"\n",
    "        return +(map(math2symEngine,expr.args)...)\n",
    "    elseif expr.head.name==\"Power\"\n",
    "        return ^(map(math2symEngine,expr.args)...)\n",
    "    elseif expr.head.name==\"Rational\"\n",
    "        return  //(map(math2symEngine,expr.args)...)\n",
    "    else\n",
    "        return SymEngine.SymFunction(expr.head.name)(map(math2symEngine,expr.args)...)\n",
    "    end\n",
    "end\n",
    "#Mathematica to julia expr\n",
    "function math2Expr(symb::MathLink.WSymbol)\n",
    "    Symbol(symb.name)\n",
    "end\n",
    "function math2Expr(num::Number)\n",
    "    num\n",
    "end\n",
    "function math2Expr(expr::MathLink.WExpr)\n",
    "    if expr.head.name==\"Times\"\n",
    "        return Expr(:call, :*, map(math2Expr,expr.args)...)\n",
    "    elseif expr.head.name==\"Plus\"\n",
    "        return Expr(:call, :+,map(math2Expr,expr.args)...)\n",
    "    elseif expr.head.name==\"Power\"\n",
    "        return Expr(:call, :^, map(math2Expr,expr.args)...)\n",
    "    elseif expr.head.name==\"Rational\"\n",
    "        return  Expr(:call, ://, map(math2Expr,expr.args)...)\n",
    "    else\n",
    "        return Expr(:call, Symbol(expr.head.name), map(math2Expr,expr.args)...)\n",
    "    end\n",
    "end\n",
    "function myconvert(::Type{Expr},ex::Basic)\n",
    "    Expr(:call, :*, Symbol(SymEngine.toString(ex)), 1)\n",
    "end\n",
    "function evalSym(ex::SymEngine.Basic)\n",
    "    fn = SymEngine.get_symengine_class(ex)     \n",
    "    if fn == :FunctionSymbol\n",
    "        as=get_args(ex)\n",
    "        return Expr(:call, Symbol(get_name(ex)), [evalSym(a) for a in as]...)|>eval\n",
    "    elseif fn == :Symbol\n",
    "        return Symbol(SymEngine.toString(ex))|>eval\n",
    "    elseif (fn in SymEngine.number_types) || (fn == :Constant)    \n",
    "        return N(ex)|>eval\n",
    "    elseif fn==:Mul\n",
    "        as=get_args(ex)\n",
    "        return *([evalSym(a) for a in as]...) \n",
    "    elseif fn==:Add\n",
    "        as=get_args(ex)\n",
    "        return +([evalSym(a) for a in as]...) \n",
    "    elseif fn==:Pow\n",
    "        as=get_args(ex)\n",
    "        return ^([evalSym(a) for a in as]...)\n",
    "    elseif fn==:Rational\n",
    "        as=get_args(ex)\n",
    "        return //([evalSym(a) for a in as]...)\n",
    "    end\n",
    "end\n",
    "macro genfun(expr,args)\n",
    "    :($(Expr(:tuple,args.args...))->$expr)\n",
    "end\n",
    "genfun(expr,args) = :(@genfun $expr [$(args...)]) |> eval"
   ]
  },
  {
   "cell_type": "code",
   "execution_count": 57,
   "metadata": {
    "scrolled": true
   },
   "outputs": [
    {
     "data": {
      "text/plain": [
       "W\"Times\"(1.6810505838183376, W\"Power\"(W\"Plus\"(W\"α2\", W\"α3\"), -1.4000000000000004), W\"Power\"(W\"Plus\"(1, W\"α4\"), -1.4000000000000004), W\"Power\"(W\"Plus\"(W\"Times\"(-0.01, W\"Plus\"(W\"α2\", W\"α3\")), W\"Times\"(W\"α2\", W\"α3\", W\"α4\")), -0.3999999999999999))"
      ]
     },
     "execution_count": 57,
     "metadata": {},
     "output_type": "execute_result"
    }
   ],
   "source": [
    "#Copy the mathematica input form to W``` ......```\n",
    "MLExpr=W```2^(-4 + DD) s23^(-4 + DD)\n",
    "  Gamma[4 - DD](\\[Alpha][2] + \\[Alpha][3])^(4 - (3 DD)/2) (1 + \\[Alpha][4])^(\n",
    " 4 - (3 DD)/\n",
    "  2) (-tt (\\[Alpha][2] + \\[Alpha][3]) + \\[Alpha][2] \\[Alpha][\n",
    "     3] \\[Alpha][4])^(-4 + DD)/.{DD->3.6,s23->1,tt->0.01}\n",
    "/.{Gamma->gamma,\\[Alpha][i_]:> ToExpression[StringJoin[{{ToString[\\[Alpha]]},ToString[i]}]],Pi->pi}```|>weval"
   ]
  },
  {
   "cell_type": "code",
   "execution_count": 58,
   "metadata": {},
   "outputs": [
    {
     "data": {
      "text/plain": [
       ":(1.6810505838183376 * (α2 + α3) ^ -1.4000000000000004 * (1 + α4) ^ -1.4000000000000004 * (-0.01 * (α2 + α3) + α2 * α3 * α4) ^ -0.3999999999999999)"
      ]
     },
     "execution_count": 58,
     "metadata": {},
     "output_type": "execute_result"
    }
   ],
   "source": [
    "symExpr=math2symEngine(MLExpr) #Transform from mathematica MathLink output to symEngine expression\n",
    "juExpr=math2Expr(MLExpr) #Transform from mathematica MathLink output to Julia expression"
   ]
  },
  {
   "cell_type": "code",
   "execution_count": 59,
   "metadata": {},
   "outputs": [
    {
     "data": {
      "text/plain": [
       "#9 (generic function with 1 method)"
      ]
     },
     "execution_count": 59,
     "metadata": {},
     "output_type": "execute_result"
    }
   ],
   "source": [
    "symfun=lambdify(math2symEngine(tb),(:α2,:α3,:α4)) #Transform to the symEgnine function\n",
    "jufun=genfun(juExpr,[:α2,:α3,:α4]) #Transform to the julia function "
   ]
  },
  {
   "cell_type": "code",
   "execution_count": 60,
   "metadata": {},
   "outputs": [
    {
     "name": "stdout",
     "output_type": "stream",
     "text": [
      "42.75816442008083,42.75816442008083"
     ]
    }
   ],
   "source": [
    "symfun(0.2,0.2,0.2)|>print;print(\",\")\n",
    "jufun(0.2,0.2,0.2)|>print"
   ]
  },
  {
   "cell_type": "code",
   "execution_count": 61,
   "metadata": {},
   "outputs": [
    {
     "data": {
      "text/plain": [
       "intSec1t (generic function with 1 method)"
      ]
     },
     "execution_count": 61,
     "metadata": {},
     "output_type": "execute_result"
    }
   ],
   "source": [
    "function intSec1t(x, f)#α1 sector decomposition\n",
    "    tmp=tsym(Complex.(x)...)\n",
    "    f[1],f[2]=reim(tmp)\n",
    "end"
   ]
  },
  {
   "cell_type": "code",
   "execution_count": 62,
   "metadata": {},
   "outputs": [
    {
     "data": {
      "text/plain": [
       "intSec1s (generic function with 1 method)"
      ]
     },
     "execution_count": 62,
     "metadata": {},
     "output_type": "execute_result"
    }
   ],
   "source": [
    "function intSec1s(x, f)#α1 sector decomposition   \n",
    "    tmp=jufun(Complex.(x)...)\n",
    "    f[1],f[2]=reim(tmp)\n",
    "end"
   ]
  },
  {
   "cell_type": "code",
   "execution_count": 63,
   "metadata": {},
   "outputs": [
    {
     "name": "stdout",
     "output_type": "stream",
     "text": [
      "  2.923385 seconds (24.15 M allocations: 953.531 MiB, 3.98% gc time)\n"
     ]
    }
   ],
   "source": [
    "@time int1numt = cuhre(intSec1t, 3, 2, atol=1e-10, rtol=1e-10);"
   ]
  },
  {
   "cell_type": "code",
   "execution_count": 66,
   "metadata": {},
   "outputs": [
    {
     "name": "stdout",
     "output_type": "stream",
     "text": [
      "  0.506695 seconds (12.00 M allocations: 488.343 MiB, 13.33% gc time)\n"
     ]
    }
   ],
   "source": [
    "@time int1nums = cuhre(intSec1s, 3, 2, atol=1e-10, rtol=1e-10);"
   ]
  },
  {
   "cell_type": "code",
   "execution_count": 55,
   "metadata": {},
   "outputs": [
    {
     "data": {
      "text/plain": [
       "17.79313098845209 - 26.214856183499197im"
      ]
     },
     "execution_count": 55,
     "metadata": {},
     "output_type": "execute_result"
    }
   ],
   "source": [
    "int1numCt = int1numt[1][1]+int1numt[1][2]im "
   ]
  },
  {
   "cell_type": "code",
   "execution_count": 56,
   "metadata": {},
   "outputs": [
    {
     "data": {
      "text/plain": [
       "17.79313098845209 - 26.214856183499197im"
      ]
     },
     "execution_count": 56,
     "metadata": {},
     "output_type": "execute_result"
    }
   ],
   "source": [
    "int1numCs = int1nums[1][1]+int1nums[1][2]im "
   ]
  }
 ],
 "metadata": {
  "kernelspec": {
   "display_name": "Julia 1.1.0",
   "language": "julia",
   "name": "julia-1.1"
  },
  "language_info": {
   "file_extension": ".jl",
   "mimetype": "application/julia",
   "name": "julia",
   "version": "1.1.0"
  }
 },
 "nbformat": 4,
 "nbformat_minor": 2
}
